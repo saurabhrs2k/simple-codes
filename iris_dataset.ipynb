{
  "nbformat": 4,
  "nbformat_minor": 0,
  "metadata": {
    "colab": {
      "name": "iris-dataset.ipynb",
      "provenance": [],
      "authorship_tag": "ABX9TyNW6Ut12rA9krhbZIrKzZLt",
      "include_colab_link": true
    },
    "kernelspec": {
      "name": "python3",
      "display_name": "Python 3"
    },
    "language_info": {
      "name": "python"
    }
  },
  "cells": [
    {
      "cell_type": "markdown",
      "metadata": {
        "id": "view-in-github",
        "colab_type": "text"
      },
      "source": [
        "<a href=\"https://colab.research.google.com/github/saurabhrs2k/simple-codes/blob/master/iris_dataset.ipynb\" target=\"_parent\"><img src=\"https://colab.research.google.com/assets/colab-badge.svg\" alt=\"Open In Colab\"/></a>"
      ]
    },
    {
      "cell_type": "code",
      "metadata": {
        "id": "XOfyDuehhZ8A"
      },
      "source": [
        "import pandas as pd\n",
        "import numpy as np\n",
        "import matplotlib.pyplot as plt"
      ],
      "execution_count": 28,
      "outputs": []
    },
    {
      "cell_type": "code",
      "metadata": {
        "colab": {
          "base_uri": "https://localhost:8080/",
          "height": 204
        },
        "id": "j_Y8wVaIi5mb",
        "outputId": "b39426ec-4256-46de-8b42-7f62e9aaf2b3"
      },
      "source": [
        "iris = pd.read_csv('/content/sample_data/Iris.csv')\n",
        "iris.head()"
      ],
      "execution_count": 74,
      "outputs": [
        {
          "output_type": "execute_result",
          "data": {
            "text/html": [
              "<div>\n",
              "<style scoped>\n",
              "    .dataframe tbody tr th:only-of-type {\n",
              "        vertical-align: middle;\n",
              "    }\n",
              "\n",
              "    .dataframe tbody tr th {\n",
              "        vertical-align: top;\n",
              "    }\n",
              "\n",
              "    .dataframe thead th {\n",
              "        text-align: right;\n",
              "    }\n",
              "</style>\n",
              "<table border=\"1\" class=\"dataframe\">\n",
              "  <thead>\n",
              "    <tr style=\"text-align: right;\">\n",
              "      <th></th>\n",
              "      <th>Id</th>\n",
              "      <th>SepalLengthCm</th>\n",
              "      <th>SepalWidthCm</th>\n",
              "      <th>PetalLengthCm</th>\n",
              "      <th>PetalWidthCm</th>\n",
              "      <th>Species</th>\n",
              "    </tr>\n",
              "  </thead>\n",
              "  <tbody>\n",
              "    <tr>\n",
              "      <th>0</th>\n",
              "      <td>1</td>\n",
              "      <td>5.1</td>\n",
              "      <td>3.5</td>\n",
              "      <td>1.4</td>\n",
              "      <td>0.2</td>\n",
              "      <td>Iris-setosa</td>\n",
              "    </tr>\n",
              "    <tr>\n",
              "      <th>1</th>\n",
              "      <td>2</td>\n",
              "      <td>4.9</td>\n",
              "      <td>3.0</td>\n",
              "      <td>1.4</td>\n",
              "      <td>0.2</td>\n",
              "      <td>Iris-setosa</td>\n",
              "    </tr>\n",
              "    <tr>\n",
              "      <th>2</th>\n",
              "      <td>3</td>\n",
              "      <td>4.7</td>\n",
              "      <td>3.2</td>\n",
              "      <td>1.3</td>\n",
              "      <td>0.2</td>\n",
              "      <td>Iris-setosa</td>\n",
              "    </tr>\n",
              "    <tr>\n",
              "      <th>3</th>\n",
              "      <td>4</td>\n",
              "      <td>4.6</td>\n",
              "      <td>3.1</td>\n",
              "      <td>1.5</td>\n",
              "      <td>0.2</td>\n",
              "      <td>Iris-setosa</td>\n",
              "    </tr>\n",
              "    <tr>\n",
              "      <th>4</th>\n",
              "      <td>5</td>\n",
              "      <td>5.0</td>\n",
              "      <td>3.6</td>\n",
              "      <td>1.4</td>\n",
              "      <td>0.2</td>\n",
              "      <td>Iris-setosa</td>\n",
              "    </tr>\n",
              "  </tbody>\n",
              "</table>\n",
              "</div>"
            ],
            "text/plain": [
              "   Id  SepalLengthCm  SepalWidthCm  PetalLengthCm  PetalWidthCm      Species\n",
              "0   1            5.1           3.5            1.4           0.2  Iris-setosa\n",
              "1   2            4.9           3.0            1.4           0.2  Iris-setosa\n",
              "2   3            4.7           3.2            1.3           0.2  Iris-setosa\n",
              "3   4            4.6           3.1            1.5           0.2  Iris-setosa\n",
              "4   5            5.0           3.6            1.4           0.2  Iris-setosa"
            ]
          },
          "metadata": {
            "tags": []
          },
          "execution_count": 74
        }
      ]
    },
    {
      "cell_type": "code",
      "metadata": {
        "id": "s0GcuolB6DDh"
      },
      "source": [
        "iris[\"Species\"].value_counts()"
      ],
      "execution_count": null,
      "outputs": []
    },
    {
      "cell_type": "code",
      "metadata": {
        "id": "uwgZYB6ZlHel"
      },
      "source": [
        "iris1 = iris.drop(columns = 'Id')\n",
        "iris1"
      ],
      "execution_count": null,
      "outputs": []
    },
    {
      "cell_type": "code",
      "metadata": {
        "colab": {
          "base_uri": "https://localhost:8080/"
        },
        "id": "k1A-UsSInDSl",
        "outputId": "73fa7818-d9d2-47e1-df25-9680827a185c"
      },
      "source": [
        "for col in list(iris.columns):\n",
        "    print(col)"
      ],
      "execution_count": 23,
      "outputs": [
        {
          "output_type": "stream",
          "text": [
            "Id\n",
            "SepalLengthCm\n",
            "SepalWidthCm\n",
            "PetalLengthCm\n",
            "PetalWidthCm\n",
            "Species\n"
          ],
          "name": "stdout"
        }
      ]
    },
    {
      "cell_type": "code",
      "metadata": {
        "id": "1oAWi2WPFFWe"
      },
      "source": [
        "for col in iris1[1:4]:\n",
        "    sum, edges = np.histogram(iris1[col],bins=10)\n",
        "    count = np.sum(sum)\n",
        "    pdf = sum/count  #avg\n",
        "    cdf=np.cumsum(pdf)\n",
        "    plt.plot(edges[1:],pdf)\n",
        "    plt.plot(edges[1:],cdf)\n",
        "    plt.xlabel(col)\n",
        "    plt.ylabel('Probablity')\n",
        "    plt.show()\n"
      ],
      "execution_count": null,
      "outputs": []
    },
    {
      "cell_type": "markdown",
      "metadata": {
        "id": "w7b3vY2xIEZN"
      },
      "source": [
        "Species is the target feature"
      ]
    },
    {
      "cell_type": "code",
      "metadata": {
        "colab": {
          "base_uri": "https://localhost:8080/",
          "height": 299
        },
        "id": "-qgxLywuIvBg",
        "outputId": "ed101827-3583-4b7d-81ca-26be19484194"
      },
      "source": [
        "colours = ['violet', 'purple', 'blue']\n",
        "species = ['Iris-setosa','Iris-virginica','Iris-versicolor']\n",
        "for i in range(3):\n",
        "    temp = iris1[iris1['Species'] == species[i]]\n",
        "    plt.scatter(temp['SepalLengthCm'], temp['SepalWidthCm'], c = colours[i], label=species[i])\n",
        "plt.xlabel(\"Sepal Length in cm\")\n",
        "plt.ylabel(\"Sepal Width in cm\")\n",
        "plt.legend()"
      ],
      "execution_count": 77,
      "outputs": [
        {
          "output_type": "execute_result",
          "data": {
            "text/plain": [
              "<matplotlib.legend.Legend at 0x7f8e770b9f90>"
            ]
          },
          "metadata": {
            "tags": []
          },
          "execution_count": 77
        },
        {
          "output_type": "display_data",
          "data": {
            "image/png": "[encoded data removed]",
            "text/plain": [
              "<Figure size 432x288 with 1 Axes>"
            ]
          },
          "metadata": {
            "tags": [],
            "needs_background": "light"
          }
        }
      ]
    },
    {
      "cell_type": "code",
      "metadata": {
        "colab": {
          "base_uri": "https://localhost:8080/",
          "height": 299
        },
        "id": "DcaNmWP0LeOF",
        "outputId": "51ecd5c5-3f81-4795-9e80-e2cd9478b48c"
      },
      "source": [
        "colours = ['green', 'orange', 'cyan']\n",
        "for i in range(3):\n",
        "    temp = iris1[iris1['Species'] == species[i]]\n",
        "    plt.scatter(temp['SepalLengthCm'], temp['SepalWidthCm'], c = colours[i], label=species[i])\n",
        "plt.xlabel(\"Petal Length in cm\")\n",
        "plt.ylabel(\"Petal Width in cm\")\n",
        "plt.legend()"
      ],
      "execution_count": 80,
      "outputs": [
        {
          "output_type": "execute_result",
          "data": {
            "text/plain": [
              "<matplotlib.legend.Legend at 0x7f8e762e1dd0>"
            ]
          },
          "metadata": {
            "tags": []
          },
          "execution_count": 80
        },
        {
          "output_type": "display_data",
          "data": {
            "image/png": "[encoded data removed]",
            "text/plain": [
              "<Figure size 432x288 with 1 Axes>"
            ]
          },
          "metadata": {
            "tags": [],
            "needs_background": "light"
          }
        }
      ]
    },
    {
      "cell_type": "markdown",
      "metadata": {
        "id": "3mzOgSRbL6Jc"
      },
      "source": [
        "Aim: We have to train the given data\n",
        "given the test data, we have to check how accurately we can classify the given test flower as Iris-setosa,  Iris-virginica or Iris-versicolor."
      ]
    },
    {
      "cell_type": "markdown",
      "metadata": {
        "id": "65elU64IMxw3"
      },
      "source": [
        "Approach: Encode the 3 types of iris flowers to 3 labels like 1 2 3 for easier calculation.\n",
        "Split the dataset into training and testing data.\n",
        "Train the training data using any ML algorithm.\n",
        "Verify the classification against test data. "
      ]
    },
    {
      "cell_type": "code",
      "metadata": {
        "id": "FBdd1ckcMF59"
      },
      "source": [
        ""
      ],
      "execution_count": null,
      "outputs": []
    }
  ]
}